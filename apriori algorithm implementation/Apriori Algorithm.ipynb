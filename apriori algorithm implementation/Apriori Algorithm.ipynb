{
 "cells": [
  {
   "cell_type": "code",
   "execution_count": 1,
   "metadata": {},
   "outputs": [
    {
     "name": "stdout",
     "output_type": "stream",
     "text": [
      "      Item(s)               Item 1               Item 2            Item 3  \\\n",
      "0           4         citrus fruit  semi-finished bread         margarine   \n",
      "1           3       tropical fruit               yogurt            coffee   \n",
      "2           1           whole milk                  NaN               NaN   \n",
      "3           4            pip fruit               yogurt      cream cheese   \n",
      "4           4     other vegetables           whole milk    condensed milk   \n",
      "...       ...                  ...                  ...               ...   \n",
      "9830       17              sausage              chicken              beef   \n",
      "9831        1    cooking chocolate                  NaN               NaN   \n",
      "9832       10              chicken         citrus fruit  other vegetables   \n",
      "9833        4  semi-finished bread        bottled water              soda   \n",
      "9834        5              chicken       tropical fruit  other vegetables   \n",
      "\n",
      "                        Item 4         Item 5          Item 6  \\\n",
      "0                  ready soups            NaN             NaN   \n",
      "1                          NaN            NaN             NaN   \n",
      "2                          NaN            NaN             NaN   \n",
      "3                 meat spreads            NaN             NaN   \n",
      "4     long life bakery product            NaN             NaN   \n",
      "...                        ...            ...             ...   \n",
      "9830            hamburger meat   citrus fruit          grapes   \n",
      "9831                       NaN            NaN             NaN   \n",
      "9832                    butter         yogurt  frozen dessert   \n",
      "9833              bottled beer            NaN             NaN   \n",
      "9834                   vinegar  shopping bags             NaN   \n",
      "\n",
      "               Item 7      Item 8  Item 9  ... Item 23 Item 24 Item 25  \\\n",
      "0                 NaN         NaN     NaN  ...     NaN     NaN     NaN   \n",
      "1                 NaN         NaN     NaN  ...     NaN     NaN     NaN   \n",
      "2                 NaN         NaN     NaN  ...     NaN     NaN     NaN   \n",
      "3                 NaN         NaN     NaN  ...     NaN     NaN     NaN   \n",
      "4                 NaN         NaN     NaN  ...     NaN     NaN     NaN   \n",
      "...               ...         ...     ...  ...     ...     ...     ...   \n",
      "9830  root vegetables  whole milk  butter  ...     NaN     NaN     NaN   \n",
      "9831              NaN         NaN     NaN  ...     NaN     NaN     NaN   \n",
      "9832    domestic eggs  rolls/buns     rum  ...     NaN     NaN     NaN   \n",
      "9833              NaN         NaN     NaN  ...     NaN     NaN     NaN   \n",
      "9834              NaN         NaN     NaN  ...     NaN     NaN     NaN   \n",
      "\n",
      "     Item 26 Item 27 Item 28 Item 29 Item 30 Item 31 Item 32  \n",
      "0        NaN     NaN     NaN     NaN     NaN     NaN     NaN  \n",
      "1        NaN     NaN     NaN     NaN     NaN     NaN     NaN  \n",
      "2        NaN     NaN     NaN     NaN     NaN     NaN     NaN  \n",
      "3        NaN     NaN     NaN     NaN     NaN     NaN     NaN  \n",
      "4        NaN     NaN     NaN     NaN     NaN     NaN     NaN  \n",
      "...      ...     ...     ...     ...     ...     ...     ...  \n",
      "9830     NaN     NaN     NaN     NaN     NaN     NaN     NaN  \n",
      "9831     NaN     NaN     NaN     NaN     NaN     NaN     NaN  \n",
      "9832     NaN     NaN     NaN     NaN     NaN     NaN     NaN  \n",
      "9833     NaN     NaN     NaN     NaN     NaN     NaN     NaN  \n",
      "9834     NaN     NaN     NaN     NaN     NaN     NaN     NaN  \n",
      "\n",
      "[9835 rows x 33 columns]\n"
     ]
    }
   ],
   "source": [
    "import pandas as pd\n",
    "dataset = pd.read_csv('E:/datacamp jupyter files/apriori algorithm implementation/groceries - groceries.csv',sep=',')\n",
    "print(dataset)\n",
    "transcations = []\n",
    "for i in range(0, 9835):\n",
    "    transcations.append([str(dataset.values[i, u]) for u in range(1, 33)])\n",
    "\n",
    "from apyori import apriori\n",
    "rules = apriori(transcations, min_support=0.0022, min_confidence=0.20, min_lift=3, min_length = 2)\n",
    "\n",
    "\n",
    "results = list(rules)\n",
    "results_list = []\n",
    "for i in range(0, len(results)):\n",
    "    results_list.append('RULE:\\t' + str(results[i][0]) + '\\nSUPPORT:\\t' + str(results[i][1]))\n",
    "print(results)\n"
   ]
  }
 ],
 "metadata": {
  "kernelspec": {
   "display_name": "base",
   "language": "python",
   "name": "python3"
  },
  "language_info": {
   "codemirror_mode": {
    "name": "ipython",
    "version": 3
   },
   "file_extension": ".py",
   "mimetype": "text/x-python",
   "name": "python",
   "nbconvert_exporter": "python",
   "pygments_lexer": "ipython3",
   "version": "3.9.12"
  },
  "orig_nbformat": 4,
  "vscode": {
   "interpreter": {
    "hash": "091100a13472167c9a3799713ff76a178e208b0df94586779ee037ac4cf76678"
   }
  }
 },
 "nbformat": 4,
 "nbformat_minor": 2
}
